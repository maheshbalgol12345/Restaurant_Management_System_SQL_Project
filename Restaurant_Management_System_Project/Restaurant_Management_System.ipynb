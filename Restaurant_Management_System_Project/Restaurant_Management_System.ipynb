{
 "cells": [
  {
   "cell_type": "markdown",
   "id": "bc3b870f-5ee2-419a-9cac-e0eeb0133207",
   "metadata": {},
   "source": [
    "# <b>Project Title : Restaurant Management System<b>"
   ]
  },
  {
   "cell_type": "markdown",
   "id": "86494c4a-2d98-43e9-b2d6-ba4ed7576842",
   "metadata": {},
   "source": [
    "## Purpose :"
   ]
  },
  {
   "cell_type": "markdown",
   "id": "0ecbd68d-d270-40e3-b70e-928126d1db7d",
   "metadata": {},
   "source": [
    "#### The Purpose of the  Restaurant Management System  is streamlines order processing, inventory control, table assignments, billing, reporting, CRM, and staff management. It enhances operational efficiency, improves customer service, reduces costs, and boosts profitability for restaurant owners and managers. By automating key tasks and providing insights through analytics, the system helps optimize operations, manage resources effectively, and enhance the overall dining experience for customers."
   ]
  },
  {
   "cell_type": "markdown",
   "id": "64738a4b-b1f3-493d-8448-032b0695e7a7",
   "metadata": {},
   "source": [
    "## Step 0 : Downloading necessary packages"
   ]
  },
  {
   "cell_type": "code",
   "execution_count": 1,
   "id": "d2817e3e-72d0-42c4-95ba-86f6accafec8",
   "metadata": {},
   "outputs": [
    {
     "name": "stdout",
     "output_type": "stream",
     "text": [
      "Requirement already satisfied: mysql-connector-python in c:\\users\\mahesh balgol\\anaconda3\\lib\\site-packages (8.4.0)\n",
      "Requirement already satisfied: pandas in c:\\users\\mahesh balgol\\anaconda3\\lib\\site-packages (2.1.4)\n",
      "Requirement already satisfied: numpy<2,>=1.23.2 in c:\\users\\mahesh balgol\\anaconda3\\lib\\site-packages (from pandas) (1.26.4)\n",
      "Requirement already satisfied: python-dateutil>=2.8.2 in c:\\users\\mahesh balgol\\anaconda3\\lib\\site-packages (from pandas) (2.8.2)\n",
      "Requirement already satisfied: pytz>=2020.1 in c:\\users\\mahesh balgol\\anaconda3\\lib\\site-packages (from pandas) (2023.3.post1)\n",
      "Requirement already satisfied: tzdata>=2022.1 in c:\\users\\mahesh balgol\\anaconda3\\lib\\site-packages (from pandas) (2023.3)\n",
      "Requirement already satisfied: six>=1.5 in c:\\users\\mahesh balgol\\anaconda3\\lib\\site-packages (from python-dateutil>=2.8.2->pandas) (1.16.0)\n",
      "Requirement already satisfied: matplotlib in c:\\users\\mahesh balgol\\anaconda3\\lib\\site-packages (3.8.0)\n",
      "Requirement already satisfied: contourpy>=1.0.1 in c:\\users\\mahesh balgol\\anaconda3\\lib\\site-packages (from matplotlib) (1.2.0)\n",
      "Requirement already satisfied: cycler>=0.10 in c:\\users\\mahesh balgol\\anaconda3\\lib\\site-packages (from matplotlib) (0.11.0)\n",
      "Requirement already satisfied: fonttools>=4.22.0 in c:\\users\\mahesh balgol\\anaconda3\\lib\\site-packages (from matplotlib) (4.25.0)\n",
      "Requirement already satisfied: kiwisolver>=1.0.1 in c:\\users\\mahesh balgol\\anaconda3\\lib\\site-packages (from matplotlib) (1.4.4)\n",
      "Requirement already satisfied: numpy<2,>=1.21 in c:\\users\\mahesh balgol\\anaconda3\\lib\\site-packages (from matplotlib) (1.26.4)\n",
      "Requirement already satisfied: packaging>=20.0 in c:\\users\\mahesh balgol\\anaconda3\\lib\\site-packages (from matplotlib) (23.1)\n",
      "Requirement already satisfied: pillow>=6.2.0 in c:\\users\\mahesh balgol\\anaconda3\\lib\\site-packages (from matplotlib) (10.2.0)\n",
      "Requirement already satisfied: pyparsing>=2.3.1 in c:\\users\\mahesh balgol\\anaconda3\\lib\\site-packages (from matplotlib) (3.0.9)\n",
      "Requirement already satisfied: python-dateutil>=2.7 in c:\\users\\mahesh balgol\\anaconda3\\lib\\site-packages (from matplotlib) (2.8.2)\n",
      "Requirement already satisfied: six>=1.5 in c:\\users\\mahesh balgol\\anaconda3\\lib\\site-packages (from python-dateutil>=2.7->matplotlib) (1.16.0)\n"
     ]
    }
   ],
   "source": [
    "!pip install mysql-connector-python\n",
    "!pip install pandas\n",
    "!pip install matplotlib"
   ]
  },
  {
   "cell_type": "markdown",
   "id": "d49a052c-0bf0-44bf-856a-bd30ebf500c2",
   "metadata": {},
   "source": [
    "\n",
    "## Step 1 : Importing necessary packages"
   ]
  },
  {
   "cell_type": "code",
   "execution_count": 2,
   "id": "5ab80975-2bee-45ec-b33d-f0be76dd4551",
   "metadata": {},
   "outputs": [],
   "source": [
    "import mysql.connector  # Library for MySQL database connection\n",
    "import pandas as pd  # Library for data manipulation and analysis\n",
    "import matplotlib.pyplot as plt  # Library for data visualizatio"
   ]
  },
  {
   "cell_type": "markdown",
   "id": "b95d2d3b-0af3-4b9d-ae4a-77d32cca0ca1",
   "metadata": {},
   "source": [
    "\n",
    "## Step 2 : Establishing Connection (Database connectivity from python to mysql database)"
   ]
  },
  {
   "cell_type": "code",
   "execution_count": 3,
   "id": "326b3d8f-0fe6-4b5f-b68a-3ff34e937ece",
   "metadata": {},
   "outputs": [],
   "source": [
    "# Connecting to MySQL database using mysql-connector-python\n",
    "connection = mysql.connector.connect(\n",
    "user='root',\n",
    "password='mahe123.',\n",
    "host='localhost',\n",
    "database='restuarentmanagementsystem'\n",
    ")"
   ]
  },
  {
   "cell_type": "markdown",
   "id": "0e6b45a9-c7ce-49cf-9aee-b42f1fca1b1b",
   "metadata": {},
   "source": [
    "## Step 3 : Data View"
   ]
  },
  {
   "cell_type": "code",
   "execution_count": 5,
   "id": "382294c3-f760-4b3c-9e6b-7e06a5687968",
   "metadata": {},
   "outputs": [
    {
     "name": "stdout",
     "output_type": "stream",
     "text": [
      "   customer_id  customer_name  phone_number                  email  \\\n",
      "0            1       John Doe  123-456-7890    johndoe@example.com   \n",
      "1            2     Jane Smith  234-567-8901  janesmith@example.com   \n",
      "2            3  Alice Johnson  345-678-9012     alicej@example.com   \n",
      "3            4      Bob Brown  456-789-0123       bobb@example.com   \n",
      "4            5  Charlie Davis  567-890-1234   charlied@example.com   \n",
      "\n",
      "                       address  \n",
      "0    123 Main St, Anytown, USA  \n",
      "1    456 Oak St, Sometown, USA  \n",
      "2  789 Pine St, Othertown, USA  \n",
      "3   101 Maple St, Anycity, USA  \n",
      "4    202 Elm St, Somecity, USA  \n"
     ]
    }
   ],
   "source": [
    "# Create a cursor object to execute SQL queries\n",
    "cursor = connection.cursor()\n",
    "# Query data from the 'customers' table\n",
    "cursor.execute('SELECT * FROM customers')\n",
    "#After fetching data from the database we are storing it into Pandas DataFrame\n",
    "customers = pd.DataFrame(cursor.fetchall(), columns=[desc[0] for desc in cursor.description])\n",
    "# Print the first few rows of the DataFrame to verify the data\n",
    "print(customers.head())"
   ]
  },
  {
   "cell_type": "code",
   "execution_count": 6,
   "id": "4ff5be2c-3586-4d07-979c-0028fbc4996b",
   "metadata": {},
   "outputs": [
    {
     "name": "stdout",
     "output_type": "stream",
     "text": [
      "   item_id         item_name     category  price  \\\n",
      "0        1  Margherita Pizza  Main Course   8.99   \n",
      "1        2      Caesar Salad    Appetizer   5.49   \n",
      "2        3    Chocolate Cake      Dessert   4.99   \n",
      "3        4    Grilled Salmon  Main Course  12.99   \n",
      "4        5       Tomato Soup    Appetizer   3.99   \n",
      "\n",
      "                                         description  \n",
      "0  Classic pizza with tomato sauce, mozzarella, a...  \n",
      "1  Romaine lettuce with Caesar dressing, croutons...  \n",
      "2        Rich chocolate cake with chocolate frosting  \n",
      "3  Fresh salmon grilled to perfection with a side...  \n",
      "4            Creamy tomato soup with a hint of basil  \n"
     ]
    }
   ],
   "source": [
    "# Query data from the '' table\n",
    "cursor.execute('SELECT * FROM menu_items')\n",
    "# Fetch the data from the cursor and store it into a Pandas DataFrame\n",
    "menu_items = pd.DataFrame(cursor.fetchall(), columns=[desc[0] for desc in\n",
    "cursor.description])\n",
    "# Print the first few rows of the DataFrame to verify the data\n",
    "print(menu_items.head())"
   ]
  },
  {
   "cell_type": "code",
   "execution_count": 7,
   "id": "87a8fbb7-771f-4a96-8cf5-1e7ea8891674",
   "metadata": {},
   "outputs": [
    {
     "name": "stdout",
     "output_type": "stream",
     "text": [
      "   order_id  customer_id  order_date total_amount\n",
      "0         1            1  2023-01-01        45.99\n",
      "1         2            2  2023-01-02        78.50\n",
      "2         3            3  2023-01-03       102.20\n",
      "3         4            4  2023-01-04        56.75\n",
      "4         5            5  2023-01-05        34.90\n"
     ]
    }
   ],
   "source": [
    "# Query data from the '' table\n",
    "cursor.execute('SELECT * FROM orders')\n",
    "# Fetch the data from the cursor and store it into a Pandas DataFrame\n",
    "orders = pd.DataFrame(cursor.fetchall(), columns=[desc[0] for desc in\n",
    "cursor.description])\n",
    "# Print the first few rows of the DataFrame to verify the data\n",
    "print(orders.head())"
   ]
  },
  {
   "cell_type": "code",
   "execution_count": 8,
   "id": "7b2797b4-e23e-471b-856c-72564c63fe53",
   "metadata": {},
   "outputs": [
    {
     "name": "stdout",
     "output_type": "stream",
     "text": [
      "   order_item_id  order_id  item_id  quantity item_price\n",
      "0              1         1        1         2      10.99\n",
      "1              2         1        2         1       5.50\n",
      "2              3         2        3         1      12.20\n",
      "3              4         2        4         3       8.25\n",
      "4              5         3        5         2       7.90\n"
     ]
    }
   ],
   "source": [
    "# Query data from the '' table\n",
    "cursor.execute('SELECT * FROM order_items')\n",
    "# Fetch the data from the cursor and store it into a Pandas DataFrame\n",
    "order_items = pd.DataFrame(cursor.fetchall(), columns=[desc[0] for desc in\n",
    "cursor.description])\n",
    "# Print the first few rows of the DataFrame to verify the data\n",
    "print(order_items.head())"
   ]
  },
  {
   "cell_type": "code",
   "execution_count": 9,
   "id": "d3e1b0e1-9db6-437a-ace4-683aa3f824f4",
   "metadata": {},
   "outputs": [
    {
     "name": "stdout",
     "output_type": "stream",
     "text": [
      "   employee_id    employee_name                         position   hire_date  \\\n",
      "0            1         John Doe                          Manager  2020-01-15   \n",
      "1            2       Jane Smith                Assistant Manager  2020-02-20   \n",
      "2            3  Michael Johnson             Sales Representative  2020-03-10   \n",
      "3            4   Emily Williams             Sales Representative  2020-04-05   \n",
      "4            5      David Brown  Customer Service Representative  2020-05-12   \n",
      "\n",
      "     salary  \n",
      "0  60000.00  \n",
      "1  45000.00  \n",
      "2  40000.00  \n",
      "3  40000.00  \n",
      "4  35000.00  \n"
     ]
    }
   ],
   "source": [
    "# Query data from the '' table\n",
    "cursor.execute('SELECT * FROM employees')\n",
    "# Fetch the data from the cursor and store it into a Pandas DataFrame\n",
    "employees = pd.DataFrame(cursor.fetchall(), columns=[desc[0] for desc in\n",
    "cursor.description])\n",
    "# Print the first few rows of the DataFrame to verify the data\n",
    "print(employees.head())"
   ]
  },
  {
   "cell_type": "code",
   "execution_count": 11,
   "id": "85805e41-2f0c-4b01-905c-d9777e53fad8",
   "metadata": {},
   "outputs": [
    {
     "name": "stdout",
     "output_type": "stream",
     "text": [
      "   transaction_id  order_id transaction_date payment_method total_amount\n",
      "0               1         1       2022-01-01    Credit Card        50.00\n",
      "1               2         2       2022-01-02           Cash        75.00\n",
      "2               3         3       2022-01-03    Credit Card        60.00\n",
      "3               4         4       2022-01-04     Debit Card        45.00\n",
      "4               5         5       2022-01-05           Cash        55.00\n"
     ]
    }
   ],
   "source": [
    "# Query data from the '' table\n",
    "cursor.execute('SELECT * FROM transactions')\n",
    "# Fetch the data from the cursor and store it into a Pandas DataFrame\n",
    "transactions = pd.DataFrame(cursor.fetchall(), columns=[desc[0] for desc in\n",
    "cursor.description])\n",
    "# Print the first few rows of the DataFrame to verify the data\n",
    "print(transactions.head())"
   ]
  },
  {
   "cell_type": "code",
   "execution_count": 15,
   "id": "72499a8a-23af-4024-abb9-c728c810ac00",
   "metadata": {},
   "outputs": [
    {
     "name": "stdout",
     "output_type": "stream",
     "text": [
      "       transaction_id    order_id\n",
      "count      100.000000  100.000000\n",
      "mean        50.500000   50.500000\n",
      "std         29.011492   29.011492\n",
      "min          1.000000    1.000000\n",
      "25%         25.750000   25.750000\n",
      "50%         50.500000   50.500000\n",
      "75%         75.250000   75.250000\n",
      "max        100.000000  100.000000\n"
     ]
    }
   ],
   "source": [
    "# Printing the summary statistics of the DataFrame 'customers'\n",
    "print(transactions.describe())"
   ]
  },
  {
   "cell_type": "markdown",
   "id": "b1dec2d8-c10d-4c3b-976c-66ed2307b970",
   "metadata": {},
   "source": [
    "## Step 4 : Data Cleaning"
   ]
  },
  {
   "cell_type": "code",
   "execution_count": 17,
   "id": "728b7235-a92e-402b-b622-81855213d5e9",
   "metadata": {},
   "outputs": [
    {
     "name": "stdout",
     "output_type": "stream",
     "text": [
      "Missing values in Customers Data:\n",
      "customer_id      0\n",
      "customer_name    0\n",
      "phone_number     0\n",
      "email            0\n",
      "address          0\n",
      "dtype: int64\n",
      "\n",
      "Missing values in Orders Data:\n",
      "order_id        0\n",
      "customer_id     0\n",
      "order_date      0\n",
      "total_amount    0\n",
      "dtype: int64\n",
      "\n",
      "Missing values in Order_Items Data:\n",
      "order_item_id    0\n",
      "order_id         0\n",
      "item_id          0\n",
      "quantity         0\n",
      "item_price       0\n",
      "dtype: int64\n",
      "\n",
      "Missing values in Employees Data:\n",
      "employee_id      0\n",
      "employee_name    0\n",
      "position         0\n",
      "hire_date        0\n",
      "salary           0\n",
      "dtype: int64\n",
      "\n",
      "Missing values in Menu_Items Data:\n",
      "item_id        0\n",
      "item_name      0\n",
      "category       0\n",
      "price          0\n",
      "description    0\n",
      "dtype: int64\n",
      "\n",
      "Missing values in Transactions Data:\n",
      "transaction_id      0\n",
      "order_id            0\n",
      "transaction_date    0\n",
      "payment_method      0\n",
      "total_amount        0\n",
      "dtype: int64\n"
     ]
    }
   ],
   "source": [
    "# Check for missing values in each table\n",
    "print(\"Missing values in Customers Data:\")\n",
    "print(customers.isnull().sum())\n",
    "\n",
    "print(\"\\nMissing values in Orders Data:\")\n",
    "print(orders.isnull().sum())\n",
    "\n",
    "print(\"\\nMissing values in Order_Items Data:\")\n",
    "print(order_items.isnull().sum())\n",
    "\n",
    "print(\"\\nMissing values in Employees Data:\")\n",
    "print(employees.isnull().sum())\n",
    "\n",
    "print(\"\\nMissing values in Menu_Items Data:\")\n",
    "print(menu_items.isnull().sum())\n",
    "\n",
    "print(\"\\nMissing values in Transactions Data:\")\n",
    "print(transactions.isnull().sum())"
   ]
  },
  {
   "cell_type": "code",
   "execution_count": 18,
   "id": "2625df8b-1a38-4701-9d42-c07de5c75b5a",
   "metadata": {},
   "outputs": [
    {
     "name": "stdout",
     "output_type": "stream",
     "text": [
      "Data types in Customers Data:\n",
      "customer_id       int64\n",
      "customer_name    object\n",
      "phone_number     object\n",
      "email            object\n",
      "address          object\n",
      "dtype: object\n",
      "Data types in employees Data:\n",
      "employee_id       int64\n",
      "employee_name    object\n",
      "position         object\n",
      "hire_date        object\n",
      "salary           object\n",
      "dtype: object\n",
      "Data types in orders Data:\n",
      "order_id         int64\n",
      "customer_id      int64\n",
      "order_date      object\n",
      "total_amount    object\n",
      "dtype: object\n",
      "Data types in Order_Items Data:\n",
      "order_item_id     int64\n",
      "order_id          int64\n",
      "item_id           int64\n",
      "quantity          int64\n",
      "item_price       object\n",
      "dtype: object\n",
      "Data types in Menu_Items Data:\n",
      "item_id         int64\n",
      "item_name      object\n",
      "category       object\n",
      "price          object\n",
      "description    object\n",
      "dtype: object\n",
      "Data types in Transactions Data:\n",
      "transaction_id       int64\n",
      "order_id             int64\n",
      "transaction_date    object\n",
      "payment_method      object\n",
      "total_amount        object\n",
      "dtype: object\n"
     ]
    }
   ],
   "source": [
    "# Check data types of each column in Customer Data\n",
    "print(\"Data types in Customers Data:\")\n",
    "print(customers.dtypes)\n",
    "\n",
    "print(\"Data types in employees Data:\")\n",
    "print(employees.dtypes)\n",
    "\n",
    "print(\"Data types in orders Data:\")\n",
    "print(orders.dtypes)\n",
    "\n",
    "print(\"Data types in Order_Items Data:\")\n",
    "print(order_items.dtypes)\n",
    "\n",
    "print(\"Data types in Menu_Items Data:\")\n",
    "print(menu_items.dtypes)\n",
    "\n",
    "print(\"Data types in Transactions Data:\")\n",
    "print(transactions.dtypes)\n",
    "# Similarly, check and ensure appropriate data types for other tables"
   ]
  },
  {
   "cell_type": "code",
   "execution_count": 20,
   "id": "45ccfedb-4c7c-4a3f-bd4b-6c67aa2d80af",
   "metadata": {},
   "outputs": [],
   "source": [
    "# Drop rows with any missing values (NaN) from the dataframe\n",
    "menu_items.dropna(inplace=True)\n",
    "customers.dropna(inplace=True)\n",
    "orders.dropna(inplace=True)\n",
    "order_items.dropna(inplace=True)\n",
    "employees.dropna(inplace=True)\n",
    "transactions.dropna(inplace=True)"
   ]
  },
  {
   "cell_type": "code",
   "execution_count": 21,
   "id": "dec54a9b-49b0-4e3c-9888-3e5edb69ccfe",
   "metadata": {},
   "outputs": [
    {
     "name": "stdout",
     "output_type": "stream",
     "text": [
      "0\n",
      "0\n",
      "0\n",
      "0\n",
      "0\n",
      "0\n"
     ]
    }
   ],
   "source": [
    "# Print the number of duplicate rows in the DataFrame\n",
    "print(menu_items.duplicated().sum())\n",
    "print(customers.duplicated().sum())\n",
    "print(orders.duplicated().sum())\n",
    "print(order_items.duplicated().sum())\n",
    "print(employees.duplicated().sum())\n",
    "print(transactions.duplicated().sum())"
   ]
  },
  {
   "cell_type": "markdown",
   "id": "7bc53f60-52e4-4ddc-9daa-2eff2b1fff4e",
   "metadata": {},
   "source": [
    "## Step 4 : Query Execution"
   ]
  },
  {
   "cell_type": "code",
   "execution_count": 42,
   "id": "2fbbe842-a4e3-4705-9b5f-b07f2fcc095f",
   "metadata": {},
   "outputs": [
    {
     "name": "stdout",
     "output_type": "stream",
     "text": [
      "Menu Items Prices in Ascending Order:\n",
      "                 item_name  price\n",
      "0             French Fries   2.99\n",
      "1   Chocolate Chip Cookies   3.49\n",
      "2             Garlic Bread   3.49\n",
      "3        Vanilla Ice Cream   3.49\n",
      "4         Blueberry Muffin   3.49\n",
      "..                     ...    ...\n",
      "95           Shrimp Scampi  13.99\n",
      "96               Pork Ribs  13.99\n",
      "97              Lamb Chops  14.99\n",
      "98                BBQ Ribs  15.99\n",
      "99            Ribeye Steak  18.99\n",
      "\n",
      "[100 rows x 2 columns]\n"
     ]
    }
   ],
   "source": [
    "import pandas as pd\n",
    "import mysql.connector\n",
    "\n",
    "# Connecting to MySQL database using mysql-connector-python\n",
    "connection = mysql.connector.connect(\n",
    "user='root',\n",
    "password='mahe123.',\n",
    "host='localhost',\n",
    "database='restuarentmanagementsystem'\n",
    ")\n",
    "\n",
    "# Function to fetch data into a DataFrame\n",
    "def fetch_data(query):\n",
    "    cursor = connection.cursor()\n",
    "    cursor.execute(query)\n",
    "    rows = cursor.fetchall()\n",
    "    colnames = [desc[0] for desc in cursor.description]\n",
    "    df = pd.DataFrame(rows, columns=colnames)\n",
    "    cursor.close()\n",
    "    return df\n",
    "\n",
    "# Query to select menu items' prices in ascending order\n",
    "menu_items_price_query_asc = \"\"\"\n",
    "SELECT item_name, price\n",
    "FROM menu_items\n",
    "ORDER BY price ASC;\n",
    "\"\"\"\n",
    "\n",
    "# Fetching data and storing it in a DataFrame\n",
    "menu_items_price_df_asc = fetch_data(menu_items_price_query_asc)\n",
    "\n",
    "print(\"Menu Items Prices in Ascending Order:\")\n",
    "print(menu_items_price_df_asc)\n",
    "\n",
    "# Close the database connection\n",
    "connection.close()\n"
   ]
  },
  {
   "cell_type": "code",
   "execution_count": 46,
   "id": "987854e5-910e-4647-b1d0-69f94a647a82",
   "metadata": {},
   "outputs": [
    {
     "name": "stdout",
     "output_type": "stream",
     "text": [
      "Transactions Total_Amount in  Descending Order:\n",
      "    order_id total_amount\n",
      "0        100       585.00\n",
      "1         99       580.00\n",
      "2         98       575.00\n",
      "3         97       570.00\n",
      "4         96       565.00\n",
      "..       ...          ...\n",
      "95         7        65.00\n",
      "96         3        60.00\n",
      "97         5        55.00\n",
      "98         1        50.00\n",
      "99         4        45.00\n",
      "\n",
      "[100 rows x 2 columns]\n"
     ]
    }
   ],
   "source": [
    "import pandas as pd\n",
    "import mysql.connector\n",
    "\n",
    "# Connecting to MySQL database using mysql-connector-python\n",
    "connection = mysql.connector.connect(\n",
    "user='root',\n",
    "password='mahe123.',\n",
    "host='localhost',\n",
    "database='restuarentmanagementsystem'\n",
    ")\n",
    "\n",
    "# Function to fetch data into a DataFrame\n",
    "def fetch_data(query):\n",
    "    cursor = connection.cursor()\n",
    "    cursor.execute(query)\n",
    "    rows = cursor.fetchall()\n",
    "    colnames = [desc[0] for desc in cursor.description]\n",
    "    df = pd.DataFrame(rows, columns=colnames)\n",
    "    cursor.close()\n",
    "    return df\n",
    "\n",
    "# Query to select transactions_total_amount_df_desc\n",
    "transactions_total_amount_df_desc = \"\"\"\n",
    "SELECT order_id, total_amount\n",
    "FROM transactions\n",
    "ORDER BY total_amount DESC;\n",
    "\"\"\"\n",
    "\n",
    "# Fetching data and storing it in a DataFrame\n",
    "transactions_total_amount_df_desc = fetch_data(menu_items_price_query_asc)\n",
    "\n",
    "print(\"Transactions Total_Amount in  Descending Order:\")\n",
    "print(transactions_total_amount_df_desc)\n",
    "\n",
    "# Close the database connection\n",
    "connection.close()\n"
   ]
  },
  {
   "cell_type": "markdown",
   "id": "e3668ff4-2864-46a9-8082-e4be0d1baee4",
   "metadata": {},
   "source": [
    "\n",
    "## Step-5 :Data Visualization"
   ]
  },
  {
   "cell_type": "code",
   "execution_count": 64,
   "id": "4962edbe-96e3-44b5-88fd-ae2801cc6715",
   "metadata": {},
   "outputs": [
    {
     "data": {
      "image/png": "[encoded data removed]",
      "text/plain": [
       "<Figure size 1500x400 with 1 Axes>"
      ]
     },
     "metadata": {},
     "output_type": "display_data"
    }
   ],
   "source": [
    "# Create a new figure with a specific size (width=10, height=4)\n",
    "plt.figure(figsize=(15, 4))\n",
    "\n",
    "# Create a bar plot showing the Count of menu_items based on price\n",
    "ax = menu_items['price'].value_counts().plot(kind='bar',color='#1D32AA',fontsize=10,edgecolor='black',width=0.8)\n",
    "\n",
    "# Set the x-axis label\n",
    "plt.xlabel('price')\n",
    "# Set the y-axis label\n",
    "plt.ylabel('Count')\n",
    "# Set the title of the plot\n",
    "plt.title('Count of menu_items based on price')\n",
    "\n",
    "# Add text labels to each bar indicating its count\n",
    "for i, count in enumerate(menu_items['price'].value_counts()):\n",
    "    ax.text(i, count, str(count), ha='center', va='bottom')\n",
    "\n",
    "# Display the plot\n",
    "plt.show()"
   ]
  },
  {
   "cell_type": "code",
   "execution_count": 73,
   "id": "e9fa1944-ea85-4b14-984b-a022579dab7b",
   "metadata": {},
   "outputs": [
    {
     "data": {
      "image/png": "[encoded data removed]",
      "text/plain": [
       "<Figure size 600x600 with 1 Axes>"
      ]
     },
     "metadata": {},
     "output_type": "display_data"
    }
   ],
   "source": [
    "# Pie chart for percentage of Transactions by Payment_Methods \n",
    "payment_method_counts = transactions['payment_method'].value_counts()  # Count the occurrences of each Payment_Method\n",
    "plt.figure(figsize=(6, 6))  # Set the figure size to 6x6 inches\n",
    "patches, texts, autotexts = plt.pie(payment_method_counts.values, labels=payment_method_counts.index, autopct='%1.1f%%', pctdistance=0.85) \n",
    "plt.title('Percentage of Transactions by Payment_Methods ')  # Set the title of the chart\n",
    "# Display the chart\n",
    "plt.show() "
   ]
  },
  {
   "cell_type": "code",
   "execution_count": 86,
   "id": "c45f0574-a6cb-4ad5-b592-09684f392b79",
   "metadata": {},
   "outputs": [
    {
     "data": {
      "image/png": "[encoded data removed]",
      "text/plain": [
       "<Figure size 640x480 with 1 Axes>"
      ]
     },
     "metadata": {},
     "output_type": "display_data"
    }
   ],
   "source": [
    "# Plot a histogram of the ratings from the review_data DataFrame\n",
    "plt.hist(employees['salary'], bins=5, edgecolor='black',color='#04FF6E')\n",
    "\n",
    "# Set the label for the x-axis\n",
    "plt.xlabel('salary')\n",
    "# Set the label for the y-axis\n",
    "plt.ylabel('Number of Employees')\n",
    "# Set the title of the histogram\n",
    "plt.title('Distribution of Salaries Given to Employees')\n",
    "\n",
    "# Display the histogram\n",
    "plt.show()"
   ]
  },
  {
   "cell_type": "markdown",
   "id": "6ba2b250-f91c-49e2-bf13-6e7e93b10593",
   "metadata": {},
   "source": [
    "## Conclusion"
   ]
  },
  {
   "cell_type": "markdown",
   "id": "679765e2-c974-49bc-a569-0d27b3757520",
   "metadata": {},
   "source": [
    "### To provide a comprehensive conclusion using the given tables (`menu_items`, `customers`, `orders`, `order_items`, `employees`, and `transactions`), let's analyze the data:\n",
    "\n",
    "1. **Menu Items Analysis**:\n",
    "   - The `menu_items` table contains information about the items available on the menu, including their ID, name, category, price, and description.\n",
    "   - Analyzing this table helps understand the variety of offerings, pricing strategies, and popularity of different categories.\n",
    "\n",
    "2. **Customers Analysis**:\n",
    "   - The `customers` table provides information about the customers, including their ID, name, contact details (phone number and email), and address.\n",
    "   - This table helps understand the customer base, demographics, and preferences.\n",
    "\n",
    "3. **Orders Analysis**:\n",
    "   - The `orders` table contains information about the orders placed by customers, including the order ID, customer ID, order date, and total amount.\n",
    "   - Analyzing this table helps track order history, customer purchase behavior, and revenue generation over time.\n",
    "\n",
    "4. **Order Items Analysis**:\n",
    "   - The `order_items` table provides detailed information about the items included in each order, including the order item ID, order ID, item ID, quantity, and item price.\n",
    "   - This table helps understand the composition of orders, popular menu items, and sales patterns.\n",
    "\n",
    "5. **Employees Analysis**:\n",
    "   - The `employees` table contains information about the employees, including their ID, name, position, hire date, and salary.\n",
    "   - Analyzing this table helps understand the workforce structure, employee tenure, and compensation.\n",
    "\n",
    "6. **Transactions Analysis**:\n",
    "   - The `transactions` table provides information about the financial transactions related to orders, including the transaction ID, order ID, transaction date, payment method, and total amount.\n",
    "   - This table helps track payment methods, revenue flow, and financial performance.\n",
    "\n",
    "**Overall Conclusion**:\n",
    "- The company has a diverse menu with various items categorized into different categories.\n",
    "- There is a customer base with identifiable preferences, as reflected in their orders.\n",
    "- Orders are placed regularly, contributing to the company's revenue stream.\n",
    "- The order items data can help identify popular menu items, optimize inventory management, and understand customer preferences.\n",
    "- Employees play a crucial role in the company's operations, with their positions, tenure, and salaries reflecting the organization's workforce structure.\n",
    "- Transactions data provides insights into the company's financial performance, payment trends, and revenue generation.\n",
    "\n",
    "Further analysis, such as correlating menu item popularity with sales data, identifying customer segments based on ordering patterns, or evaluating employee performance against sales metrics, could provide deeper insights into the company's operations and areas for improvement."
   ]
  },
  {
   "cell_type": "code",
   "execution_count": null,
   "id": "e3de54f4-6d9e-4029-856d-c93b65e33c2c",
   "metadata": {},
   "outputs": [],
   "source": []
  }
 ],
 "metadata": {
  "kernelspec": {
   "display_name": "Python 3 (ipykernel)",
   "language": "python",
   "name": "python3"
  },
  "language_info": {
   "codemirror_mode": {
    "name": "ipython",
    "version": 3
   },
   "file_extension": ".py",
   "mimetype": "text/x-python",
   "name": "python",
   "nbconvert_exporter": "python",
   "pygments_lexer": "ipython3",
   "version": "3.11.7"
  }
 },
 "nbformat": 4,
 "nbformat_minor": 5
}
